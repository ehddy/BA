{
 "cells": [
  {
   "cell_type": "code",
   "execution_count": 1,
   "id": "dcd90733",
   "metadata": {},
   "outputs": [],
   "source": [
    "import pandas as pd \n",
    "import numpy as np "
   ]
  },
  {
   "cell_type": "code",
   "execution_count": 79,
   "id": "ae6de050",
   "metadata": {},
   "outputs": [],
   "source": [
    "# [Box 1] 민간소비지출 행태 방정식  \n",
    "def pcp(gni, rcb, lab_em):\n",
    "    return np.exp((0.802041 * np.log(gni)) + (-0.008639 * np.log(rcb)) + (0.718264 * np.log(lab_em)) \n",
    "                  - 5.096627)\n",
    "\n"
   ]
  },
  {
   "cell_type": "code",
   "execution_count": 90,
   "id": "a01e1bb0",
   "metadata": {},
   "outputs": [],
   "source": [
    "from sklearn.preprocessing import MinMaxScaler"
   ]
  },
  {
   "cell_type": "code",
   "execution_count": 91,
   "id": "46accd8c",
   "metadata": {},
   "outputs": [],
   "source": [
    "min_max = MinMaxScaler()"
   ]
  },
  {
   "cell_type": "code",
   "execution_count": 104,
   "id": "700ddb5a",
   "metadata": {},
   "outputs": [],
   "source": [
    "a = (0.802041 * 7.681792) + (-0.008639 * 0.661583) + (0.718264 * 2.311264) -5.096627"
   ]
  },
  {
   "cell_type": "code",
   "execution_count": 112,
   "id": "bcd35316",
   "metadata": {},
   "outputs": [
    {
     "data": {
      "text/plain": [
       "-0.7174398731289899"
      ]
     },
     "execution_count": 112,
     "metadata": {},
     "output_type": "execute_result"
    }
   ],
   "source": [
    "np.log(0.488)"
   ]
  },
  {
   "cell_type": "code",
   "execution_count": 107,
   "id": "a49e13e1",
   "metadata": {},
   "outputs": [
    {
     "data": {
      "text/plain": [
       "0.9238857858495525"
      ]
     },
     "execution_count": 107,
     "metadata": {},
     "output_type": "execute_result"
    }
   ],
   "source": [
    "a / 2.942861"
   ]
  },
  {
   "cell_type": "code",
   "execution_count": 102,
   "id": "bc06f6f6",
   "metadata": {},
   "outputs": [
    {
     "data": {
      "text/plain": [
       "197148.47542001505"
      ]
     },
     "execution_count": 102,
     "metadata": {},
     "output_type": "execute_result"
    }
   ],
   "source": [
    "pcp(1,736,627, 0.1262, 16354)"
   ]
  },
  {
   "cell_type": "code",
   "execution_count": 87,
   "id": "e9132a65",
   "metadata": {},
   "outputs": [
    {
     "name": "stdout",
     "output_type": "stream",
     "text": [
      "1.4108258379100556\n",
      "-0.7901350607719241\n",
      "-0.6206907771381318\n"
     ]
    }
   ],
   "source": [
    "a = [242235, 0.1889, 18649]\n",
    "\n",
    "for i in range(len(a)):\n",
    "    print((a[i] - np.mean(a)) / np.std(a))"
   ]
  },
  {
   "cell_type": "code",
   "execution_count": 89,
   "id": "1386fa8a",
   "metadata": {},
   "outputs": [
    {
     "name": "stderr",
     "output_type": "stream",
     "text": [
      "/var/folders/7d/bm3zqtjx7xsb__yxj254h7kh0000gn/T/ipykernel_79508/2341610172.py:3: RuntimeWarning: invalid value encountered in log\n",
      "  return np.exp((0.802041 * np.log(gni)) + (-0.008639 * np.log(rcb)) + (0.718264 * np.log(lab_em))\n"
     ]
    },
    {
     "data": {
      "text/plain": [
       "nan"
      ]
     },
     "execution_count": 89,
     "metadata": {},
     "output_type": "execute_result"
    }
   ],
   "source": []
  },
  {
   "cell_type": "code",
   "execution_count": 101,
   "id": "63aa54ee",
   "metadata": {},
   "outputs": [
    {
     "ename": "TypeError",
     "evalue": "pcp() takes 3 positional arguments but 4 were given",
     "output_type": "error",
     "traceback": [
      "\u001b[0;31m---------------------------------------------------------------------------\u001b[0m",
      "\u001b[0;31mTypeError\u001b[0m                                 Traceback (most recent call last)",
      "Input \u001b[0;32mIn [101]\u001b[0m, in \u001b[0;36m<module>\u001b[0;34m\u001b[0m\n\u001b[0;32m----> 1\u001b[0m \u001b[43mpcp\u001b[49m\u001b[43m(\u001b[49m\u001b[38;5;241;43m378\u001b[39;49m\u001b[43m,\u001b[49m\u001b[38;5;241;43m644\u001b[39;49m\u001b[43m,\u001b[49m\u001b[43m \u001b[49m\u001b[38;5;241;43m0.1262\u001b[39;49m\u001b[43m,\u001b[49m\u001b[43m \u001b[49m\u001b[38;5;241;43m16354\u001b[39;49m\u001b[43m)\u001b[49m\n",
      "\u001b[0;31mTypeError\u001b[0m: pcp() takes 3 positional arguments but 4 were given"
     ]
    }
   ],
   "source": [
    "pcp(378,644, 0.1262, 16354) "
   ]
  },
  {
   "cell_type": "code",
   "execution_count": null,
   "id": "48b04b08",
   "metadata": {},
   "outputs": [],
   "source": [
    "pcp(1663207, 0.02084, 26178) "
   ]
  },
  {
   "cell_type": "code",
   "execution_count": 85,
   "id": "0407e39b",
   "metadata": {},
   "outputs": [
    {
     "data": {
      "text/plain": [
       "75.21192669433597"
      ]
     },
     "execution_count": 85,
     "metadata": {},
     "output_type": "execute_result"
    }
   ],
   "source": [
    "pcp(165314, 0.1517, 17560) / 1416.9"
   ]
  },
  {
   "cell_type": "code",
   "execution_count": 48,
   "id": "d365c6c3",
   "metadata": {},
   "outputs": [
    {
     "ename": "SyntaxError",
     "evalue": "invalid syntax (3536252729.py, line 1)",
     "output_type": "error",
     "traceback": [
      "\u001b[0;36m  Input \u001b[0;32mIn [48]\u001b[0;36m\u001b[0m\n\u001b[0;31m    data_1 = pd.read_excel('', sheet_name=)\u001b[0m\n\u001b[0m                                          ^\u001b[0m\n\u001b[0;31mSyntaxError\u001b[0m\u001b[0;31m:\u001b[0m invalid syntax\n"
     ]
    }
   ],
   "source": [
    "data_1 = pd.read_excel('', sheet_name=)\n"
   ]
  },
  {
   "cell_type": "code",
   "execution_count": 58,
   "id": "f3c3591e",
   "metadata": {},
   "outputs": [],
   "source": [
    "# [BOX 2] 정부소비지출 행태방정식\n",
    "\n",
    "def after_gc(before_gc) :\n",
    "    return np.exp(0.986935 * np.log(before_gc) + 0.194679)"
   ]
  },
  {
   "cell_type": "code",
   "execution_count": 100,
   "id": "6f310d1e",
   "metadata": {
    "scrolled": false
   },
   "outputs": [
    {
     "data": {
      "text/plain": [
       "0.9736077156303983"
      ]
     },
     "execution_count": 100,
     "metadata": {},
     "output_type": "execute_result"
    }
   ],
   "source": [
    "after_gc(250087) / 265295 "
   ]
  },
  {
   "cell_type": "code",
   "execution_count": 37,
   "id": "ff778e54",
   "metadata": {},
   "outputs": [],
   "source": [
    "# [BOX 3] 정부수입 행태방정식\n",
    "\n",
    "def tax (gdp_all, gdpdefl, gc, period9899):\n",
    "    return np.exp((0.691266 * np.log(gdp_all)) + (1.110259 * np.log(gdpdefl)) + (0.447023 * np.log(gc)) + (- 0.081009 * period9899) - 5.485974)"
   ]
  },
  {
   "cell_type": "code",
   "execution_count": 35,
   "id": "1d2c88dd",
   "metadata": {},
   "outputs": [],
   "source": [
    "#[Box 4] 총고정자본형성 행태방정식\n",
    "\n",
    "# 총 고정 자본형성 정의 방정식 \n",
    "def ic(ime, ihouse):\n",
    "    return ime + ihouse\n",
    "\n",
    "\n",
    "# 설비투자\n",
    "def ime(gdp_all,before_rndinvest_all2,exr_avg,trend,step98,spike98):\n",
    "    return np.exp((0.688672 * np.log(gdp_all)\n",
    "                   + 0.282546 * np.log(before_rndinvest_all2)\n",
    "                   - 0.328785 * np.log(exr_avg)\n",
    "                   - 0.007545 * trend * step98\n",
    "                   - 0.172188 * spike98\n",
    "                   + 0.972870))\n",
    "\n",
    "#건설투자\n",
    "def ihouse(gdp_all,rcb,cpi,step98,trend,spike98):\n",
    "    return np.exp((1.098164 * np.log(gdp_all)\n",
    "                   - 0.569013 * (rcb / cpi)\n",
    "                   - 0.014699 * step98 * trend\n",
    "                   + 0.301364 * spike98\n",
    "                   - 2.539373\n",
    "))"
   ]
  },
  {
   "cell_type": "code",
   "execution_count": 36,
   "id": "d768f6a8",
   "metadata": {},
   "outputs": [],
   "source": [
    "#[Box 5] 재고 및 통계불일치 행태방정식\n",
    "def iisr(pcp,exp_value, exp_servalue, gap1_all,before_imp_value,rcb,cpi,before_iisr,cefore_iisr):\n",
    "    return (0.082791 * (pcp + exp_value + exp_servalue)\n",
    "            + 0.129106 * gap1_all\n",
    "            + 0.209911 * before_imp_value\n",
    "            - 88447.83 * (rcb / cpi)\n",
    "            - 0.282324 * before_iisr\n",
    "            - 0.162766 * cefore_iisr\n",
    "            - 38853.77)"
   ]
  },
  {
   "cell_type": "code",
   "execution_count": 34,
   "id": "3f07ed23",
   "metadata": {},
   "outputs": [],
   "source": [
    "def dd(pcp, ime, ihouse, gc):\n",
    "    return pcp + ime + ihouse + gc\n",
    "def fd(gxc, gxs):\n",
    "    return gxc + gxs\n",
    "\n",
    "# [BOX 6] 국내총생산(GDP)\n",
    "def gdp_all(dd, fd, gmc, gms, iisr):\n",
    "    return dd + fd - gmc - gms + iisr"
   ]
  },
  {
   "cell_type": "code",
   "execution_count": 41,
   "id": "9551e33e",
   "metadata": {
    "scrolled": true
   },
   "outputs": [],
   "source": [
    "# [Box 7] 국민총소득(GNI) 행태 방정식 \n",
    "def gni(gdp_all, tot1):\n",
    "    return np.exp(0.955061 * np.log(gdp_all) + 0.172046 * np.log(tot1) - 0.181524)"
   ]
  },
  {
   "cell_type": "code",
   "execution_count": null,
   "id": "e2aee0ae",
   "metadata": {},
   "outputs": [],
   "source": []
  }
 ],
 "metadata": {
  "kernelspec": {
   "display_name": "Python 3 (ipykernel)",
   "language": "python",
   "name": "python3"
  },
  "language_info": {
   "codemirror_mode": {
    "name": "ipython",
    "version": 3
   },
   "file_extension": ".py",
   "mimetype": "text/x-python",
   "name": "python",
   "nbconvert_exporter": "python",
   "pygments_lexer": "ipython3",
   "version": "3.9.7"
  }
 },
 "nbformat": 4,
 "nbformat_minor": 5
}
